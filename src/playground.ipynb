{
 "cells": [
  {
   "cell_type": "code",
   "id": "initial_id",
   "metadata": {
    "collapsed": true,
    "ExecuteTime": {
     "end_time": "2025-07-18T14:19:54.742511Z",
     "start_time": "2025-07-18T14:19:54.740274Z"
    }
   },
   "source": [
    "import dspy\n",
    "from datasets import load_dataset, Dataset\n",
    "from dspy.datasets import DataLoader\n",
    "from src.logger import logger\n",
    "import json\n",
    "import random\n",
    "from dotenv import load_dotenv, find_dotenv\n",
    "import os\n",
    "import openai\n",
    "import jellyfish\n",
    "from itertools import combinations"
   ],
   "outputs": [],
   "execution_count": 50
  },
  {
   "metadata": {
    "ExecuteTime": {
     "end_time": "2025-07-18T14:03:47.264599Z",
     "start_time": "2025-07-18T14:03:47.259449Z"
    }
   },
   "cell_type": "code",
   "source": [
    "_ = load_dotenv(find_dotenv())\n",
    "os.environ['OPENAI_API_KEY'] = os.environ['OPENAI_API_KEY']\n",
    "openai.api_key = os.environ['OPENAI_API_KEY']"
   ],
   "id": "78dc42dded390777",
   "outputs": [],
   "execution_count": 36
  },
  {
   "metadata": {
    "ExecuteTime": {
     "end_time": "2025-07-18T14:06:14.683546Z",
     "start_time": "2025-07-18T14:06:14.680280Z"
    }
   },
   "cell_type": "code",
   "source": "lm = dspy.LM('openai/gpt-4o-mini', api_key=openai.api_key)",
   "id": "d1513c9ead1b351c",
   "outputs": [],
   "execution_count": 39
  },
  {
   "metadata": {
    "ExecuteTime": {
     "end_time": "2025-07-18T13:29:13.541739Z",
     "start_time": "2025-07-18T13:27:11.067154Z"
    }
   },
   "cell_type": "code",
   "source": "dataset = DataLoader().from_csv(file_path='../resources/NC_Voters_5M/**')",
   "id": "fb72e942a8f83212",
   "outputs": [],
   "execution_count": 3
  },
  {
   "metadata": {
    "ExecuteTime": {
     "end_time": "2025-07-18T13:29:16.371600Z",
     "start_time": "2025-07-18T13:29:13.622153Z"
    }
   },
   "cell_type": "code",
   "source": [
    "random.seed(42)\n",
    "random.shuffle(dataset)\n",
    "\n",
    "n = len(dataset)\n",
    "train_end = int(0.8 * n)\n",
    "dev_end = train_end + int(0.1 * n)\n",
    "\n",
    "trainset = dataset[:train_end]\n",
    "devset = dataset[train_end:dev_end]\n",
    "testset = dataset[dev_end:]\n",
    "\n",
    "print(f\"Train size: {len(trainset)}\")\n",
    "print(f\"Dev size: {len(devset)}\")\n",
    "print(f\"Test size: {len(testset)}\")"
   ],
   "id": "bb85da1b3ac05bf9",
   "outputs": [
    {
     "name": "stdout",
     "output_type": "stream",
     "text": [
      "Train size: 4000000\n",
      "Dev size: 500000\n",
      "Test size: 500000\n"
     ]
    }
   ],
   "execution_count": 4
  },
  {
   "metadata": {
    "ExecuteTime": {
     "end_time": "2025-07-18T13:29:16.439231Z",
     "start_time": "2025-07-18T13:29:16.430236Z"
    }
   },
   "cell_type": "code",
   "source": "example = trainset[0]",
   "id": "3af8197633accb75",
   "outputs": [],
   "execution_count": 5
  },
  {
   "metadata": {
    "ExecuteTime": {
     "end_time": "2025-07-18T13:29:16.465744Z",
     "start_time": "2025-07-18T13:29:16.462367Z"
    }
   },
   "cell_type": "code",
   "source": "print(example.keys())",
   "id": "7526131389a4680c",
   "outputs": [
    {
     "name": "stdout",
     "output_type": "stream",
     "text": [
      "['recid', 'givenname', 'surname', 'suburb', 'postcode']\n"
     ]
    }
   ],
   "execution_count": 6
  },
  {
   "metadata": {
    "ExecuteTime": {
     "end_time": "2025-07-18T13:29:16.495919Z",
     "start_time": "2025-07-18T13:29:16.492365Z"
    }
   },
   "cell_type": "code",
   "source": [
    "print(f'Given name: {example.givenname}')\n",
    "print(f'Surname: {example.surname}')\n",
    "print(f'Suburb: {example.suburb}')"
   ],
   "id": "8ec66bead6b26f8b",
   "outputs": [
    {
     "name": "stdout",
     "output_type": "stream",
     "text": [
      "Given name: aysha\n",
      "Surname: mohammed\n",
      "Suburb: matthews\n"
     ]
    }
   ],
   "execution_count": 7
  },
  {
   "metadata": {
    "ExecuteTime": {
     "end_time": "2025-07-18T13:29:16.547185Z",
     "start_time": "2025-07-18T13:29:16.545631Z"
    }
   },
   "cell_type": "code",
   "source": "",
   "id": "94245c2f026e7819",
   "outputs": [],
   "execution_count": null
  },
  {
   "metadata": {},
   "cell_type": "markdown",
   "source": "## Candidate Record Pairs (Blocking)",
   "id": "d2ba6ca4efa005d1"
  },
  {
   "metadata": {
    "ExecuteTime": {
     "end_time": "2025-07-18T14:21:17.565569Z",
     "start_time": "2025-07-18T14:21:17.562899Z"
    }
   },
   "cell_type": "code",
   "source": [
    "from collections import defaultdict\n",
    "from difflib import SequenceMatcher\n",
    "\n",
    "def jaro_winkler_name_similarity(a, b):\n",
    "    name1 = f\"{a['givenname']} {a['surname']}\".lower()\n",
    "    name2 = f\"{b['givenname']} {b['surname']}\".lower()\n",
    "    return jellyfish.jaro_similarity(name1, name2)\n",
    "\n",
    "def generate_similar_pairs(records, threshold=0.9):\n",
    "    candidate_pairs = []\n",
    "    for r1, r2 in combinations(records, 2):\n",
    "        score = jaro_winkler_name_similarity(r1, r2)\n",
    "        if score >= threshold:\n",
    "            candidate_pairs.append((r1, r2, score))\n",
    "    return candidate_pairs"
   ],
   "id": "c00082ef909a6419",
   "outputs": [],
   "execution_count": 53
  },
  {
   "metadata": {
    "ExecuteTime": {
     "end_time": "2025-07-18T18:02:32.255623Z",
     "start_time": "2025-07-18T14:21:25.928093Z"
    }
   },
   "cell_type": "code",
   "source": "pairs = generate_similar_pairs(trainset, threshold=0.88)",
   "id": "ab370c6bf413bc42",
   "outputs": [
    {
     "ename": "KeyboardInterrupt",
     "evalue": "",
     "output_type": "error",
     "traceback": [
      "\u001B[31m---------------------------------------------------------------------------\u001B[39m",
      "\u001B[31mKeyboardInterrupt\u001B[39m                         Traceback (most recent call last)",
      "\u001B[36mCell\u001B[39m\u001B[36m \u001B[39m\u001B[32mIn[54]\u001B[39m\u001B[32m, line 1\u001B[39m\n\u001B[32m----> \u001B[39m\u001B[32m1\u001B[39m pairs = \u001B[43mgenerate_similar_pairs\u001B[49m\u001B[43m(\u001B[49m\u001B[43mtrainset\u001B[49m\u001B[43m,\u001B[49m\u001B[43m \u001B[49m\u001B[43mthreshold\u001B[49m\u001B[43m=\u001B[49m\u001B[32;43m0.88\u001B[39;49m\u001B[43m)\u001B[49m\n",
      "\u001B[36mCell\u001B[39m\u001B[36m \u001B[39m\u001B[32mIn[53]\u001B[39m\u001B[32m, line 12\u001B[39m, in \u001B[36mgenerate_similar_pairs\u001B[39m\u001B[34m(records, threshold)\u001B[39m\n\u001B[32m     10\u001B[39m candidate_pairs = []\n\u001B[32m     11\u001B[39m \u001B[38;5;28;01mfor\u001B[39;00m r1, r2 \u001B[38;5;129;01min\u001B[39;00m combinations(records, \u001B[32m2\u001B[39m):\n\u001B[32m---> \u001B[39m\u001B[32m12\u001B[39m     score = \u001B[43mjaro_winkler_name_similarity\u001B[49m\u001B[43m(\u001B[49m\u001B[43mr1\u001B[49m\u001B[43m,\u001B[49m\u001B[43m \u001B[49m\u001B[43mr2\u001B[49m\u001B[43m)\u001B[49m\n\u001B[32m     13\u001B[39m     \u001B[38;5;28;01mif\u001B[39;00m score >= threshold:\n\u001B[32m     14\u001B[39m         candidate_pairs.append((r1, r2, score))\n",
      "\u001B[36mCell\u001B[39m\u001B[36m \u001B[39m\u001B[32mIn[53]\u001B[39m\u001B[32m, line 7\u001B[39m, in \u001B[36mjaro_winkler_name_similarity\u001B[39m\u001B[34m(a, b)\u001B[39m\n\u001B[32m      5\u001B[39m name1 = \u001B[33mf\u001B[39m\u001B[33m\"\u001B[39m\u001B[38;5;132;01m{\u001B[39;00ma[\u001B[33m'\u001B[39m\u001B[33mgivenname\u001B[39m\u001B[33m'\u001B[39m]\u001B[38;5;132;01m}\u001B[39;00m\u001B[33m \u001B[39m\u001B[38;5;132;01m{\u001B[39;00ma[\u001B[33m'\u001B[39m\u001B[33msurname\u001B[39m\u001B[33m'\u001B[39m]\u001B[38;5;132;01m}\u001B[39;00m\u001B[33m\"\u001B[39m.lower()\n\u001B[32m      6\u001B[39m name2 = \u001B[33mf\u001B[39m\u001B[33m\"\u001B[39m\u001B[38;5;132;01m{\u001B[39;00mb[\u001B[33m'\u001B[39m\u001B[33mgivenname\u001B[39m\u001B[33m'\u001B[39m]\u001B[38;5;132;01m}\u001B[39;00m\u001B[33m \u001B[39m\u001B[38;5;132;01m{\u001B[39;00mb[\u001B[33m'\u001B[39m\u001B[33msurname\u001B[39m\u001B[33m'\u001B[39m]\u001B[38;5;132;01m}\u001B[39;00m\u001B[33m\"\u001B[39m.lower()\n\u001B[32m----> \u001B[39m\u001B[32m7\u001B[39m \u001B[38;5;28;01mreturn\u001B[39;00m \u001B[43mjellyfish\u001B[49m\u001B[43m.\u001B[49m\u001B[43mjaro_similarity\u001B[49m\u001B[43m(\u001B[49m\u001B[43mname1\u001B[49m\u001B[43m,\u001B[49m\u001B[43m \u001B[49m\u001B[43mname2\u001B[49m\u001B[43m)\u001B[49m\n",
      "\u001B[31mKeyboardInterrupt\u001B[39m: "
     ]
    }
   ],
   "execution_count": 54
  },
  {
   "metadata": {},
   "cell_type": "code",
   "outputs": [],
   "execution_count": null,
   "source": "",
   "id": "e6d79ea3c2a8c250"
  },
  {
   "metadata": {
    "ExecuteTime": {
     "end_time": "2025-07-18T13:34:07.061345Z",
     "start_time": "2025-07-18T13:34:07.058918Z"
    }
   },
   "cell_type": "code",
   "source": [
    "# Get a small sample\n",
    "from itertools import islice\n",
    "blocks_sm = dict(islice(blocks.items(), 5))\n",
    "print(len(blocks_sm))"
   ],
   "id": "bd07642d063e8fcd",
   "outputs": [
    {
     "name": "stdout",
     "output_type": "stream",
     "text": [
      "5\n"
     ]
    }
   ],
   "execution_count": 19
  },
  {
   "metadata": {
    "ExecuteTime": {
     "end_time": "2025-07-18T13:44:47.684162Z",
     "start_time": "2025-07-18T13:34:15.847963Z"
    }
   },
   "cell_type": "code",
   "source": "candidate_pairs = generate_candidate_pairs(blocks_sm)",
   "id": "8111727506057473",
   "outputs": [],
   "execution_count": 20
  },
  {
   "metadata": {
    "ExecuteTime": {
     "end_time": "2025-07-18T13:59:52.553429Z",
     "start_time": "2025-07-18T13:59:52.550450Z"
    }
   },
   "cell_type": "code",
   "source": [
    "candidate_pairs_sm = candidate_pairs[:100]\n",
    "print(len(candidate_pairs_sm))"
   ],
   "id": "d2b712c4ca86d7cf",
   "outputs": [
    {
     "name": "stdout",
     "output_type": "stream",
     "text": [
      "100\n"
     ]
    }
   ],
   "execution_count": 26
  },
  {
   "metadata": {},
   "cell_type": "markdown",
   "source": [
    "## Define DSPy Signature\n",
    "This will be a classification task as we will give two records and it will predict \"yes\" if they are the same person and \"no\" otherwise."
   ],
   "id": "c89be8d29a35de9a"
  },
  {
   "metadata": {
    "ExecuteTime": {
     "end_time": "2025-07-18T14:07:50.857445Z",
     "start_time": "2025-07-18T14:07:50.854416Z"
    }
   },
   "cell_type": "code",
   "source": [
    "from typing import Literal\n",
    "\n",
    "class MatchVoters(dspy.Signature):\n",
    "    \"\"\"Decide whether two voter records are the same person\"\"\"\n",
    "    record_1: str = dspy.InputField()\n",
    "    record_2: str = dspy.InputField()\n",
    "    is_match: Literal[\"yes\", \"no\"] = dspy.OutputField()"
   ],
   "id": "583d9d7f294471ea",
   "outputs": [],
   "execution_count": 43
  },
  {
   "metadata": {},
   "cell_type": "code",
   "outputs": [],
   "execution_count": null,
   "source": "# Build DSPy Module",
   "id": "fc802a135c3734e4"
  },
  {
   "metadata": {
    "ExecuteTime": {
     "end_time": "2025-07-18T14:06:32.144655Z",
     "start_time": "2025-07-18T14:06:32.143001Z"
    }
   },
   "cell_type": "code",
   "source": "dspy.configure(lm=lm)",
   "id": "7e667097888ae9b",
   "outputs": [],
   "execution_count": 41
  },
  {
   "metadata": {
    "ExecuteTime": {
     "end_time": "2025-07-18T14:08:47.077593Z",
     "start_time": "2025-07-18T14:08:45.315030Z"
    }
   },
   "cell_type": "code",
   "source": [
    "predictor = dspy.ChainOfThought(MatchVoters)\n",
    "a, b = candidate_pairs_sm[1]\n",
    "print(predictor(record_1=str(a), record_2=str(b)))"
   ],
   "id": "d04690eba896894d",
   "outputs": [
    {
     "name": "stdout",
     "output_type": "stream",
     "text": [
      "Prediction(\n",
      "    reasoning=\"The two records represent different individuals. The first record has the given name 'aysha' and surname 'mohammed', while the second record has the given name 'paul' and surname 'slabaugh'. Although both records share the same suburb 'matthews' and postcode '28105', the differing names indicate that they are not the same person.\",\n",
      "    is_match='no'\n",
      ")\n"
     ]
    }
   ],
   "execution_count": 46
  },
  {
   "metadata": {},
   "cell_type": "code",
   "outputs": [],
   "execution_count": null,
   "source": "",
   "id": "1b9369dead788b6f"
  }
 ],
 "metadata": {
  "kernelspec": {
   "display_name": "Python 3",
   "language": "python",
   "name": "python3"
  },
  "language_info": {
   "codemirror_mode": {
    "name": "ipython",
    "version": 2
   },
   "file_extension": ".py",
   "mimetype": "text/x-python",
   "name": "python",
   "nbconvert_exporter": "python",
   "pygments_lexer": "ipython2",
   "version": "2.7.6"
  }
 },
 "nbformat": 4,
 "nbformat_minor": 5
}
